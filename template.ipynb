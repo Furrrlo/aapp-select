{
  "nbformat": 4,
  "nbformat_minor": 0,
  "metadata": {
    "colab": {
      "provenance": []
    },
    "kernelspec": {
      "name": "python3",
      "display_name": "Python 3"
    },
    "language_info": {
      "name": "python"
    }
  },
  "cells": [
    {
      "cell_type": "code",
      "execution_count": 36,
      "metadata": {
        "id": "bKWHX0-aOSA7",
        "colab": {
          "base_uri": "https://localhost:8080/"
        },
        "outputId": "0396cdf2-2475-4ed9-fe93-8fb3e53b2403"
      },
      "outputs": [
        {
          "output_type": "stream",
          "name": "stdout",
          "text": [
            "select/Makefile\n",
            "select/benchmark.c\n",
            "select/select.c\n",
            "select/test.c\n",
            "select/test.h\n"
          ]
        }
      ],
      "source": [
        "# Extract files in a subfolder\n",
        "!echo \"__TAR__B64__GOES__HERE__\" \\\n",
        "    | base64 -d \\\n",
        "    | tar -xvzf -"
      ]
    },
    {
      "cell_type": "code",
      "source": [
        "!git clone https://github.com/google/benchmark.git"
      ],
      "metadata": {
        "colab": {
          "base_uri": "https://localhost:8080/"
        },
        "id": "FuuBAfroPfAq",
        "outputId": "e6346800-e7c4-47cb-d329-8c17ed91d1a0"
      },
      "execution_count": 3,
      "outputs": [
        {
          "output_type": "stream",
          "name": "stdout",
          "text": [
            "Cloning into 'benchmark'...\n",
            "remote: Enumerating objects: 8850, done.\u001b[K\n",
            "remote: Counting objects: 100% (1447/1447), done.\u001b[K\n",
            "remote: Compressing objects: 100% (238/238), done.\u001b[K\n",
            "remote: Total 8850 (delta 1293), reused 1274 (delta 1195), pack-reused 7403 (from 1)\u001b[K\n",
            "Receiving objects: 100% (8850/8850), 2.80 MiB | 12.19 MiB/s, done.\n",
            "Resolving deltas: 100% (5960/5960), done.\n"
          ]
        }
      ]
    },
    {
      "cell_type": "code",
      "source": [
        "!cd benchmark && \\\n",
        "  git checkout 761305ec3b33abf30e08d50eb829e19a802581cc && \\\n",
        "  cmake -E make_directory \"build\" && \\\n",
        "  cmake -E chdir \"build\" cmake -DBENCHMARK_DOWNLOAD_DEPENDENCIES=on -DCMAKE_BUILD_TYPE=Release ../ && \\\n",
        "  cmake --build \"build\" --config Release"
      ],
      "metadata": {
        "colab": {
          "base_uri": "https://localhost:8080/"
        },
        "id": "PsDWLIIMQHHn",
        "outputId": "1f41cf31-1da1-4bb0-c07c-1bc5ce9f3ea7"
      },
      "execution_count": 38,
      "outputs": [
        {
          "output_type": "stream",
          "name": "stdout",
          "text": [
            "HEAD is now at 761305e Update user_guide.md (#1863)\n",
            "-- Failed to find LLVM FileCheck\n",
            "-- Google Benchmark version: v1.9.0-12-g761305ec, normalized to 1.9.0.12\n",
            "-- Performing Test HAVE_STD_REGEX -- success\n",
            "-- Performing Test HAVE_GNU_POSIX_REGEX -- failed to compile\n",
            "-- Performing Test HAVE_POSIX_REGEX -- success\n",
            "-- Performing Test HAVE_STEADY_CLOCK -- success\n",
            "-- Performing Test HAVE_PTHREAD_AFFINITY -- success\n",
            "CMake Deprecation Warning at CMakeLists.txt:1 (cmake_minimum_required):\n",
            "  Compatibility with CMake < 3.5 will be removed from a future version of\n",
            "  CMake.\n",
            "\n",
            "  Update the VERSION argument <min> value or use a ...<max> suffix to tell\n",
            "  CMake that the project does not need compatibility with older versions.\n",
            "\n",
            "\n",
            "-- Looking for Google Test sources\n",
            "-- Looking for Google Test sources in /content/benchmark/googletest\n",
            "CMake Warning at CMakeLists.txt:37 (message):\n",
            "  Did not find Google Test sources! Fetching from web...\n",
            "\n",
            "\n",
            "-- Configuring done (0.0s)\n",
            "-- Generating done (0.0s)\n",
            "-- Build files have been written to: /content/benchmark/build/third_party/googletest\n",
            "[ 11%] Performing update step for 'googletest'\n",
            "-- Already at requested tag: release-1.11.0\n",
            "[ 22%] No patch step for 'googletest'\n",
            "[ 33%] No configure step for 'googletest'\n",
            "[ 44%] No build step for 'googletest'\n",
            "[ 55%] No install step for 'googletest'\n",
            "[ 66%] No test step for 'googletest'\n",
            "[ 77%] Completed 'googletest'\n",
            "[100%] Built target googletest\n",
            "\u001b[0mCMake Deprecation Warning at build/third_party/googletest/src/CMakeLists.txt:4 (cmake_minimum_required):\n",
            "  Compatibility with CMake < 3.5 will be removed from a future version of\n",
            "  CMake.\n",
            "\n",
            "  Update the VERSION argument <min> value or use a ...<max> suffix to tell\n",
            "  CMake that the project does not need compatibility with older versions.\n",
            "\n",
            "\u001b[0m\n",
            "\u001b[0mCMake Deprecation Warning at build/third_party/googletest/src/googlemock/CMakeLists.txt:45 (cmake_minimum_required):\n",
            "  Compatibility with CMake < 3.5 will be removed from a future version of\n",
            "  CMake.\n",
            "\n",
            "  Update the VERSION argument <min> value or use a ...<max> suffix to tell\n",
            "  CMake that the project does not need compatibility with older versions.\n",
            "\n",
            "\u001b[0m\n",
            "\u001b[0mCMake Deprecation Warning at build/third_party/googletest/src/googletest/CMakeLists.txt:56 (cmake_minimum_required):\n",
            "  Compatibility with CMake < 3.5 will be removed from a future version of\n",
            "  CMake.\n",
            "\n",
            "  Update the VERSION argument <min> value or use a ...<max> suffix to tell\n",
            "  CMake that the project does not need compatibility with older versions.\n",
            "\n",
            "\u001b[0m\n",
            "-- Configuring done (0.5s)\n",
            "-- Generating done (0.1s)\n",
            "-- Build files have been written to: /content/benchmark/build\n",
            "[ 18%] Built target benchmark\n",
            "[ 20%] Built target benchmark_main\n",
            "[ 22%] Built target output_test_helper\n",
            "[ 24%] Built target benchmark_test\n",
            "[ 25%] Built target spec_arg_test\n",
            "[ 27%] Built target spec_arg_verbosity_test\n",
            "[ 29%] Built target benchmark_setup_teardown_test\n",
            "[ 31%] Built target filter_test\n",
            "[ 33%] Built target benchmark_min_time_flag_time_test\n",
            "[ 35%] Built target benchmark_min_time_flag_iters_test\n",
            "[ 37%] Built target options_test\n",
            "[ 39%] Built target basic_test\n",
            "[ 40%] Built target repetitions_test\n",
            "[ 42%] Built target diagnostics_test\n",
            "[ 44%] Built target skip_with_error_test\n",
            "[ 46%] Built target donotoptimize_test\n",
            "[ 48%] Built target fixture_test\n",
            "[ 51%] Built target register_benchmark_test\n",
            "[ 53%] Built target map_test\n",
            "[ 55%] Built target multiple_ranges_test\n",
            "[ 56%] Built target args_product_test\n",
            "[ 58%] Built target link_main_test\n",
            "[ 60%] Built target reporter_output_test\n",
            "[ 61%] Built target templated_fixture_test\n",
            "[ 63%] Built target user_counters_test\n",
            "[ 65%] Built target perf_counters_test\n",
            "[ 66%] Built target internal_threading_test\n",
            "[ 68%] Built target report_aggregates_only_test\n",
            "[ 69%] Built target display_aggregates_only_test\n",
            "[ 71%] Built target user_counters_tabular_test\n",
            "[ 73%] Built target user_counters_thousands_test\n",
            "[ 75%] Built target memory_manager_test\n",
            "[ 77%] Built target profiler_manager_test\n",
            "[ 79%] Built target cxx03_test\n",
            "[ 81%] Built target complexity_test\n",
            "[ 83%] Built target gtest\n",
            "[ 84%] Built target gmock\n",
            "[ 86%] Built target gmock_main\n",
            "[ 87%] Built target benchmark_gtest\n",
            "[ 88%] Built target benchmark_name_gtest\n",
            "[ 90%] Built target benchmark_random_interleaving_gtest\n",
            "[ 91%] Built target commandlineflags_gtest\n",
            "[ 93%] Built target statistics_gtest\n",
            "[ 95%] Built target string_util_gtest\n",
            "[ 96%] Built target perf_counters_gtest\n",
            "[ 98%] Built target time_unit_gtest\n",
            "[100%] Built target min_time_parse_gtest\n"
          ]
        }
      ]
    },
    {
      "cell_type": "code",
      "source": [
        "!cd select && make test"
      ],
      "metadata": {
        "colab": {
          "base_uri": "https://localhost:8080/"
        },
        "id": "Q4usUeQpQZ9B",
        "outputId": "fe7a57b9-a1d1-458a-9925-87f8e6e62a97"
      },
      "execution_count": 29,
      "outputs": [
        {
          "output_type": "stream",
          "name": "stdout",
          "text": [
            "g++ -O0 -fno-omit-frame-pointer -fsanitize=undefined -fsanitize=address -g select.c test.c -o test.out\n",
            "./test.out \n",
            "\u001b[32mPASS\u001b[0m '(less than 5)'\n",
            "    expected 50, got deterministic 50 and rand 50, sorted arr: {3, 12, 50, 84, }\n",
            "\u001b[32mPASS\u001b[0m '(len % 5 == 1)'\n",
            "    expected 50, got deterministic 50 and rand 50, sorted arr: {2, 3, 9, 12, 50, 84, }\n",
            "\u001b[32mPASS\u001b[0m '(len % 5 == 2)'\n",
            "    expected 17, got deterministic 17 and rand 17, sorted arr: {3, 7, 11, 12, 15, 17, 23, 50, 60, 81, 84, 98, }\n",
            "\u001b[32mPASS\u001b[0m '(len % 5 == 3)'\n",
            "    expected 23, got deterministic 23 and rand 23, sorted arr: {2, 3, 7, 9, 11, 12, 15, 23, 50, 60, 81, 84, 98, }\n",
            "\u001b[32mPASS\u001b[0m '(len % 5 == 4)'\n",
            "    expected 9, got deterministic 9 and rand 9, sorted arr: {2, 3, 7, 9, 11, 12, 15, 17, 23, 50, 60, 81, 84, 98, }\n",
            "\u001b[32mPASS\u001b[0m 'ends up in the lower part of recursion'\n",
            "    expected 7, got deterministic 7 and rand 7, sorted arr: {2, 3, 6, 7, 9, 11, 12, 15, 17, 23, 40, 50, 60, 81, 84, 98, }\n",
            "\u001b[32mPASS\u001b[0m 'ends up in the higher part of recursion'\n",
            "    expected 60, got deterministic 60 and rand 60, sorted arr: {2, 3, 6, 7, 9, 11, 12, 15, 17, 23, 40, 50, 60, 81, 84, 98, }\n",
            "\u001b[32mPASS\u001b[0m 'random 1'\n",
            "    expected -2125522942, got deterministic -2125522942 and rand -2125522942\n",
            "\u001b[32mPASS\u001b[0m 'random 2'\n",
            "    expected -2138281290, got deterministic -2138281290 and rand -2138281290\n",
            "\u001b[32mPASS\u001b[0m 'random 3'\n",
            "    expected -2146985387, got deterministic -2146985387 and rand -2146985387\n",
            "\u001b[32mPASS\u001b[0m 'random 4'\n",
            "    expected -2144605906, got deterministic -2144605906 and rand -2144605906\n"
          ]
        }
      ]
    },
    {
      "cell_type": "code",
      "source": [
        "import json\n",
        "import matplotlib.pyplot as plt\n",
        "\n",
        "!cd select && make benchmark\n",
        "print(\"\")\n",
        "\n",
        "# Load the JSON data\n",
        "with open('select/benchmark.json', 'r') as f:\n",
        "    data = json.load(f)\n",
        "\n",
        "# Filter benchmark where run_type is iteration\n",
        "benchmarks = [benchmark for benchmark in data['benchmarks'] if benchmark['run_type'] == 'iteration']\n",
        "\n",
        "# Extract the relevant data for plotting\n",
        "plots = {}\n",
        "for benchmark in benchmarks:\n",
        "    name = benchmark['name'].split('/')[0]\n",
        "    N = int(benchmark['name'].split('/')[-1])\n",
        "\n",
        "    if not name in plots:\n",
        "      plots[name] = {}\n",
        "      plots[name]['name'] = name\n",
        "      plots[name]['x_values'] = [N]\n",
        "      plots[name]['y_values'] = [float(benchmark['cpu_time'])]\n",
        "    elif(N not in plots[name]['x_values']):\n",
        "        plots[name]['x_values'].append(N)\n",
        "        plots[name]['y_values'].append(float(benchmark['cpu_time']))\n",
        "\n",
        "plt.figure(figsize=(10, 6))\n",
        "for name, plot in plots.items():\n",
        "    plt.plot(plot['x_values'], plot['y_values'], label=name)\n",
        "plt.xlabel('Benchmark N')\n",
        "plt.ylabel('CPU Time (ns)')\n",
        "plt.title('Benchmark Results')\n",
        "plt.xticks(rotation=45, ha='right')\n",
        "plt.legend()\n",
        "plt.tight_layout()\n",
        "plt.show()"
      ],
      "metadata": {
        "id": "WFPGSYhAuq4l"
      },
      "execution_count": null,
      "outputs": []
    },
    {
      "cell_type": "code",
      "source": [],
      "metadata": {
        "id": "Lkysc_yXvnlQ"
      },
      "execution_count": null,
      "outputs": []
    }
  ]
}